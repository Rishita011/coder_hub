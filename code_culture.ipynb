{
 "cells": [
  {
   "cell_type": "code",
   "execution_count": 1,
   "id": "60a18511-54df-4171-a471-d662f982c2fb",
   "metadata": {},
   "outputs": [],
   "source": [
    "import json"
   ]
  },
  {
   "cell_type": "code",
   "execution_count": 2,
   "id": "faa6bbad-d330-46b1-a363-50416fd55ce9",
   "metadata": {},
   "outputs": [],
   "source": [
    "def load_data(filename):\n",
    "    with open(filename,\"r\") as f:\n",
    "        data = json.load(f)\n",
    "        return data"
   ]
  },
  {
   "cell_type": "code",
   "execution_count": 3,
   "id": "5db7dea8-cbba-4197-b6a3-aab09879d3a6",
   "metadata": {},
   "outputs": [],
   "source": [
    "data = load_data(r\"C:\\Users\\HET\\OneDrive\\Desktop\\RISHITA\\rishita.json\")"
   ]
  },
  {
   "cell_type": "code",
   "execution_count": 4,
   "id": "58cdf738-6282-41a2-bd97-9599ed174ca5",
   "metadata": {},
   "outputs": [
    {
     "data": {
      "text/plain": [
       "{'users': [{'id': 1, 'name': 'amit', 'friends': [2, 3], 'liked_pages': [101]},\n",
       "  {'id': 2, 'name': 'priya', 'friends': [1, 4], 'liked_pages': [102]},\n",
       "  {'id': 3, 'name': 'rahul', 'friends': [1], 'liked_pages': [101, 103]},\n",
       "  {'id': 4, 'name': 'sara', 'friends': [2], 'liked_pages': [104]}],\n",
       " 'pages': [{'id': 101, 'name': 'python developers'},\n",
       "  {'id': 102, 'name': 'Data science enthusiasts'},\n",
       "  {'id': 103, 'name': 'AI & ML Community'},\n",
       "  {'id': 104, 'name': 'UI & UX Hub'}]}"
      ]
     },
     "execution_count": 4,
     "metadata": {},
     "output_type": "execute_result"
    }
   ],
   "source": [
    "data"
   ]
  },
  {
   "cell_type": "code",
   "execution_count": 5,
   "id": "2eade5a3-5beb-4124-ae70-5f9a4819f077",
   "metadata": {},
   "outputs": [
    {
     "name": "stdout",
     "output_type": "stream",
     "text": [
      "users and their connections\n",
      "amit is friends with: [2, 3] and liked pages are [101]\n",
      "priya is friends with: [1, 4] and liked pages are [102]\n",
      "rahul is friends with: [1] and liked pages are [101, 103]\n",
      "sara is friends with: [2] and liked pages are [104]\n",
      "\n",
      "pages information\n",
      "101: python developers\n",
      "102: Data science enthusiasts\n",
      "103: AI & ML Community\n",
      "104: UI & UX Hub\n"
     ]
    }
   ],
   "source": [
    "def display_users(data):\n",
    "    print(\"users and their connections\")\n",
    "    for user in data['users']:\n",
    "        print(f\"{user['name']} is friends with: {user['friends']} and liked pages are {user['liked_pages']}\")\n",
    "    print(\"\\npages information\")\n",
    "    for page in data['pages']:\n",
    "            print(f\"{page['id']}: {page['name']}\")\n",
    "\n",
    "            \n",
    "display_users(data)       \n"
   ]
  },
  {
   "cell_type": "code",
   "execution_count": null,
   "id": "3b6f6e48-d405-45b4-aad2-039f6a879771",
   "metadata": {},
   "outputs": [],
   "source": []
  }
 ],
 "metadata": {
  "kernelspec": {
   "display_name": "Python 3 (ipykernel)",
   "language": "python",
   "name": "python3"
  },
  "language_info": {
   "codemirror_mode": {
    "name": "ipython",
    "version": 3
   },
   "file_extension": ".py",
   "mimetype": "text/x-python",
   "name": "python",
   "nbconvert_exporter": "python",
   "pygments_lexer": "ipython3",
   "version": "3.13.5"
  }
 },
 "nbformat": 4,
 "nbformat_minor": 5
}
